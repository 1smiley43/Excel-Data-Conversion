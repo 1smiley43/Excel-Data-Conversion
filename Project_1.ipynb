{
  "nbformat": 4,
  "nbformat_minor": 0,
  "metadata": {
    "colab": {
      "provenance": [],
      "authorship_tag": "ABX9TyNOBmXLQyqQyf+rDO077H4z",
      "include_colab_link": true
    },
    "kernelspec": {
      "name": "python3",
      "display_name": "Python 3"
    },
    "language_info": {
      "name": "python"
    }
  },
  "cells": [
    {
      "cell_type": "markdown",
      "metadata": {
        "id": "view-in-github",
        "colab_type": "text"
      },
      "source": [
        "<a href=\"https://colab.research.google.com/github/1smiley43/Sales-Prediction-Project/blob/main/Project_1.ipynb\" target=\"_parent\"><img src=\"https://colab.research.google.com/assets/colab-badge.svg\" alt=\"Open In Colab\"/></a>"
      ]
    },
    {
      "cell_type": "markdown",
      "source": [
        "#Project 1 - Part 1\n"
      ],
      "metadata": {
        "id": "IIbC1AjINXXI"
      }
    },
    {
      "cell_type": "code",
      "source": [],
      "metadata": {
        "id": "sntuFZFNNmPh"
      },
      "execution_count": null,
      "outputs": []
    },
    {
      "cell_type": "markdown",
      "source": [
        "## Loading Data\n"
      ],
      "metadata": {
        "id": "YZ1DkXRONY4z"
      }
    },
    {
      "cell_type": "code",
      "source": [],
      "metadata": {
        "id": "kmbjhx83Nl0p"
      },
      "execution_count": null,
      "outputs": []
    },
    {
      "cell_type": "markdown",
      "source": [
        "\n",
        "##Data Cleaning\n"
      ],
      "metadata": {
        "id": "BvEnljrkNa7b"
      }
    },
    {
      "cell_type": "code",
      "source": [],
      "metadata": {
        "id": "qErp3_URNmth"
      },
      "execution_count": null,
      "outputs": []
    },
    {
      "cell_type": "markdown",
      "source": [
        "##Exploratory Visuals\n"
      ],
      "metadata": {
        "id": "q0hvnZ0MNiRW"
      }
    },
    {
      "cell_type": "code",
      "source": [],
      "metadata": {
        "id": "hEPjh19tNnFp"
      },
      "execution_count": null,
      "outputs": []
    },
    {
      "cell_type": "markdown",
      "source": [
        "##Explanatory Visuals"
      ],
      "metadata": {
        "id": "UP6nkvFqNjg8"
      }
    },
    {
      "cell_type": "code",
      "source": [],
      "metadata": {
        "id": "es2jleIzNnrU"
      },
      "execution_count": null,
      "outputs": []
    }
  ]
}