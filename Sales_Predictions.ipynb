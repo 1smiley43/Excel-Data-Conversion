{
  "nbformat": 4,
  "nbformat_minor": 0,
  "metadata": {
    "colab": {
      "provenance": [],
      "include_colab_link": true
    },
    "kernelspec": {
      "name": "python3",
      "display_name": "Python 3"
    },
    "language_info": {
      "name": "python"
    }
  },
  "cells": [
    {
      "cell_type": "markdown",
      "metadata": {
        "id": "view-in-github",
        "colab_type": "text"
      },
      "source": [
        "<a href=\"https://colab.research.google.com/github/1smiley43/Sales-Prediction-Project/blob/main/Sales_Predictions.ipynb\" target=\"_parent\"><img src=\"https://colab.research.google.com/assets/colab-badge.svg\" alt=\"Open In Colab\"/></a>"
      ]
    },
    {
      "cell_type": "markdown",
      "source": [
        "## Loading Data\n"
      ],
      "metadata": {
        "id": "YZ1DkXRONY4z"
      }
    },
    {
      "cell_type": "code",
      "source": [
        "# Mount data\n",
        "from google.colab import drive\n",
        "drive.mount('/content/drive')"
      ],
      "metadata": {
        "id": "kmbjhx83Nl0p",
        "outputId": "a367d640-7fdf-4754-cbe4-587ce2a7ed76",
        "colab": {
          "base_uri": "https://localhost:8080/"
        }
      },
      "execution_count": 3,
      "outputs": [
        {
          "output_type": "stream",
          "name": "stdout",
          "text": [
            "Mounted at /content/drive\n"
          ]
        }
      ]
    },
    {
      "cell_type": "code",
      "source": [
        "# Import Libraries\n",
        "import pandas as pd"
      ],
      "metadata": {
        "id": "RvsPk-pfQkh2"
      },
      "execution_count": 2,
      "outputs": []
    },
    {
      "cell_type": "code",
      "source": [
        "# Load the Dataset\n",
        "filename = '/content/sales_predictions.xlsx'\n",
        "sales_predictions = pd.read_excel(filename)"
      ],
      "metadata": {
        "id": "Ey3xKVP9Oils"
      },
      "execution_count": 4,
      "outputs": []
    },
    {
      "cell_type": "code",
      "source": [
        "sales_predictions.info()"
      ],
      "metadata": {
        "id": "85t-QxGNO2bF",
        "colab": {
          "base_uri": "https://localhost:8080/"
        },
        "outputId": "361d9245-470c-4cd9-fe67-075be2ea3a1f"
      },
      "execution_count": null,
      "outputs": [
        {
          "output_type": "stream",
          "name": "stdout",
          "text": [
            "<class 'pandas.core.frame.DataFrame'>\n",
            "RangeIndex: 8523 entries, 0 to 8522\n",
            "Data columns (total 12 columns):\n",
            " #   Column                     Non-Null Count  Dtype  \n",
            "---  ------                     --------------  -----  \n",
            " 0   Item_Identifier            8523 non-null   object \n",
            " 1   Item_Weight                7060 non-null   float64\n",
            " 2   Item_Fat_Content           8523 non-null   object \n",
            " 3   Item_Visibility            8523 non-null   float64\n",
            " 4   Item_Type                  8523 non-null   object \n",
            " 5   Item_MRP                   8523 non-null   float64\n",
            " 6   Outlet_Identifier          8523 non-null   object \n",
            " 7   Outlet_Establishment_Year  8523 non-null   int64  \n",
            " 8   Outlet_Size                6113 non-null   object \n",
            " 9   Outlet_Location_Type       8523 non-null   object \n",
            " 10  Outlet_Type                8523 non-null   object \n",
            " 11  Item_Outlet_Sales          8523 non-null   float64\n",
            "dtypes: float64(4), int64(1), object(7)\n",
            "memory usage: 799.2+ KB\n"
          ]
        }
      ]
    },
    {
      "cell_type": "code",
      "source": [
        "sales_predictions.head()"
      ],
      "metadata": {
        "id": "tJ1yePr7PAnW"
      },
      "execution_count": null,
      "outputs": []
    },
    {
      "cell_type": "markdown",
      "source": [
        "\n",
        "##Data Cleaning\n"
      ],
      "metadata": {
        "id": "BvEnljrkNa7b"
      }
    },
    {
      "cell_type": "code",
      "source": [
        "# Getting a feel for the data \n",
        "sales_predictions.describe()"
      ],
      "metadata": {
        "id": "qErp3_URNmth"
      },
      "execution_count": null,
      "outputs": []
    },
    {
      "cell_type": "code",
      "source": [
        "# How many rows and columns?\n",
        "sales_predictions.shape"
      ],
      "metadata": {
        "id": "wUc4Cc_WPRqD"
      },
      "execution_count": null,
      "outputs": []
    },
    {
      "cell_type": "code",
      "source": [
        "# What are the datatypes of each variable?\n",
        "sales_predictions.info()"
      ],
      "metadata": {
        "id": "ehOZFBuDPcbQ"
      },
      "execution_count": null,
      "outputs": []
    },
    {
      "cell_type": "code",
      "source": [
        "# Are there duplicates?\n",
        "sales_predictions.duplicated().sum()"
      ],
      "metadata": {
        "id": "BRsrDDDSQpoQ"
      },
      "execution_count": null,
      "outputs": []
    },
    {
      "cell_type": "code",
      "source": [
        "# If there are, drop them\n",
        "# sales_predictions = sales_predictions.drop_duplicates()"
      ],
      "metadata": {
        "id": "QxP2wwsjRTCw"
      },
      "execution_count": null,
      "outputs": []
    },
    {
      "cell_type": "markdown",
      "source": [
        "Identifying missing values"
      ],
      "metadata": {
        "id": "OyPtR4AQSVng"
      }
    },
    {
      "cell_type": "code",
      "source": [
        "# Display column names and datatypes\n",
        "sales_predictions.dtypes"
      ],
      "metadata": {
        "id": "Tl7a3xWlRzjm"
      },
      "execution_count": null,
      "outputs": []
    },
    {
      "cell_type": "code",
      "source": [
        "sales_predictions.info()"
      ],
      "metadata": {
        "id": "qBmZ3vi1SxLa"
      },
      "execution_count": null,
      "outputs": []
    },
    {
      "cell_type": "code",
      "source": [
        "sales_predictions.columns"
      ],
      "metadata": {
        "id": "2CP4CaffS_Q7"
      },
      "execution_count": null,
      "outputs": []
    },
    {
      "cell_type": "code",
      "source": [
        "sales_predictions.describe()"
      ],
      "metadata": {
        "id": "MRixAWMLS_5e"
      },
      "execution_count": null,
      "outputs": []
    },
    {
      "cell_type": "code",
      "source": [
        "# Create a filler to select only the object datatypes\n",
        "data_types = sales_predictions.dtypes\n",
        "object_data_types = data_types[(data_types == \"object\")]\n",
        "object_data_types.index"
      ],
      "metadata": {
        "id": "CM9xWsJeS_9o"
      },
      "execution_count": null,
      "outputs": []
    },
    {
      "cell_type": "code",
      "source": [
        "for column in object_data_types.index:\n",
        "    # Display the unique values from the column\n",
        "    print(column)\n",
        "    print(sales_predictions[column].unique())"
      ],
      "metadata": {
        "id": "GXQFkL-UTc7E"
      },
      "execution_count": null,
      "outputs": []
    },
    {
      "cell_type": "code",
      "source": [
        "sales_predictions.replace({'low fat' : 'Low Fat', 'LF' : 'Low Fat', 'reg' : 'Regular'}, inplace = True)\n",
        "print(column)\n",
        "\n",
        "print(sales_predictions[column].unique())\n"
      ],
      "metadata": {
        "id": "_CYNSR0xTc-N"
      },
      "execution_count": null,
      "outputs": []
    },
    {
      "cell_type": "code",
      "source": [
        "## Display the count of missing values by column\n",
        "print(sales_predictions.isna().sum())"
      ],
      "metadata": {
        "id": "3de_KJbpTdCX"
      },
      "execution_count": null,
      "outputs": []
    },
    {
      "cell_type": "code",
      "source": [],
      "metadata": {
        "id": "iSF3GNvvYZWw"
      },
      "execution_count": null,
      "outputs": []
    },
    {
      "cell_type": "code",
      "source": [],
      "metadata": {
        "id": "sgYMTlbmYZZ5"
      },
      "execution_count": null,
      "outputs": []
    },
    {
      "cell_type": "code",
      "source": [],
      "metadata": {
        "id": "CbTHO8i3YZdF"
      },
      "execution_count": null,
      "outputs": []
    },
    {
      "cell_type": "code",
      "source": [],
      "metadata": {
        "id": "-mJh8ZvoYZfk"
      },
      "execution_count": null,
      "outputs": []
    },
    {
      "cell_type": "markdown",
      "source": [
        "##Exploratory Visuals\n"
      ],
      "metadata": {
        "id": "q0hvnZ0MNiRW"
      }
    },
    {
      "cell_type": "code",
      "source": [],
      "metadata": {
        "id": "hEPjh19tNnFp"
      },
      "execution_count": null,
      "outputs": []
    },
    {
      "cell_type": "markdown",
      "source": [
        "##Explanatory Visuals"
      ],
      "metadata": {
        "id": "UP6nkvFqNjg8"
      }
    },
    {
      "cell_type": "code",
      "source": [],
      "metadata": {
        "id": "es2jleIzNnrU"
      },
      "execution_count": null,
      "outputs": []
    }
  ]
}